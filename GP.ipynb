{
 "cells": [
  {
   "cell_type": "code",
   "execution_count": 1,
   "id": "27629b7b",
   "metadata": {},
   "outputs": [],
   "source": [
    "import pandas as pd\n",
    "df=pd.read_csv('option_train.csv')"
   ]
  },
  {
   "cell_type": "code",
   "execution_count": 2,
   "id": "5d241823",
   "metadata": {},
   "outputs": [],
   "source": [
    "import pandas as pd\n",
    "import statsmodels.formula.api as smf\n",
    "import statsmodels.api as sm\n",
    "from sklearn.impute import SimpleImputer\n",
    "import numpy as np\n",
    "from sklearn.linear_model import LinearRegression\n",
    "from sklearn.model_selection import train_test_split\n",
    "from sklearn.preprocessing import StandardScaler\n",
    "import itertools\n",
    "import time\n",
    "from sklearn import linear_model\n",
    "from sklearn.metrics import mean_squared_error"
   ]
  },
  {
   "cell_type": "code",
   "execution_count": 3,
   "id": "773ce209",
   "metadata": {},
   "outputs": [
    {
     "data": {
      "text/html": [
       "<div>\n",
       "<style scoped>\n",
       "    .dataframe tbody tr th:only-of-type {\n",
       "        vertical-align: middle;\n",
       "    }\n",
       "\n",
       "    .dataframe tbody tr th {\n",
       "        vertical-align: top;\n",
       "    }\n",
       "\n",
       "    .dataframe thead th {\n",
       "        text-align: right;\n",
       "    }\n",
       "</style>\n",
       "<table border=\"1\" class=\"dataframe\">\n",
       "  <thead>\n",
       "    <tr style=\"text-align: right;\">\n",
       "      <th></th>\n",
       "      <th>Value</th>\n",
       "      <th>S</th>\n",
       "      <th>K</th>\n",
       "      <th>tau</th>\n",
       "      <th>r</th>\n",
       "      <th>BS</th>\n",
       "    </tr>\n",
       "  </thead>\n",
       "  <tbody>\n",
       "    <tr>\n",
       "      <th>0</th>\n",
       "      <td>21.670404</td>\n",
       "      <td>431.623898</td>\n",
       "      <td>420.0</td>\n",
       "      <td>0.341270</td>\n",
       "      <td>0.03013</td>\n",
       "      <td>Under</td>\n",
       "    </tr>\n",
       "    <tr>\n",
       "      <th>1</th>\n",
       "      <td>0.125000</td>\n",
       "      <td>427.015526</td>\n",
       "      <td>465.0</td>\n",
       "      <td>0.166667</td>\n",
       "      <td>0.03126</td>\n",
       "      <td>Over</td>\n",
       "    </tr>\n",
       "    <tr>\n",
       "      <th>2</th>\n",
       "      <td>20.691244</td>\n",
       "      <td>427.762336</td>\n",
       "      <td>415.0</td>\n",
       "      <td>0.265873</td>\n",
       "      <td>0.03116</td>\n",
       "      <td>Under</td>\n",
       "    </tr>\n",
       "    <tr>\n",
       "      <th>3</th>\n",
       "      <td>1.035002</td>\n",
       "      <td>451.711658</td>\n",
       "      <td>460.0</td>\n",
       "      <td>0.063492</td>\n",
       "      <td>0.02972</td>\n",
       "      <td>Over</td>\n",
       "    </tr>\n",
       "    <tr>\n",
       "      <th>4</th>\n",
       "      <td>39.553020</td>\n",
       "      <td>446.718974</td>\n",
       "      <td>410.0</td>\n",
       "      <td>0.166667</td>\n",
       "      <td>0.02962</td>\n",
       "      <td>Under</td>\n",
       "    </tr>\n",
       "  </tbody>\n",
       "</table>\n",
       "</div>"
      ],
      "text/plain": [
       "       Value           S      K       tau        r     BS\n",
       "0  21.670404  431.623898  420.0  0.341270  0.03013  Under\n",
       "1   0.125000  427.015526  465.0  0.166667  0.03126   Over\n",
       "2  20.691244  427.762336  415.0  0.265873  0.03116  Under\n",
       "3   1.035002  451.711658  460.0  0.063492  0.02972   Over\n",
       "4  39.553020  446.718974  410.0  0.166667  0.02962  Under"
      ]
     },
     "execution_count": 3,
     "metadata": {},
     "output_type": "execute_result"
    }
   ],
   "source": [
    "df.head()"
   ]
  },
  {
   "cell_type": "code",
   "execution_count": 4,
   "id": "7eb5c433",
   "metadata": {},
   "outputs": [
    {
     "name": "stdout",
     "output_type": "stream",
     "text": [
      "<class 'pandas.core.frame.DataFrame'>\n",
      "RangeIndex: 1680 entries, 0 to 1679\n",
      "Data columns (total 6 columns):\n",
      " #   Column  Non-Null Count  Dtype  \n",
      "---  ------  --------------  -----  \n",
      " 0   Value   1679 non-null   float64\n",
      " 1   S       1679 non-null   float64\n",
      " 2   K       1678 non-null   float64\n",
      " 3   tau     1679 non-null   float64\n",
      " 4   r       1680 non-null   float64\n",
      " 5   BS      1680 non-null   object \n",
      "dtypes: float64(5), object(1)\n",
      "memory usage: 78.9+ KB\n"
     ]
    }
   ],
   "source": [
    "df.info()"
   ]
  },
  {
   "cell_type": "code",
   "execution_count": 5,
   "id": "4c15ab89",
   "metadata": {},
   "outputs": [],
   "source": [
    "df['S']=df['S'].replace(0, np.nan)"
   ]
  },
  {
   "cell_type": "code",
   "execution_count": 6,
   "id": "b9b8b7a4",
   "metadata": {},
   "outputs": [
    {
     "data": {
      "text/plain": [
       "Value    1\n",
       "S        2\n",
       "K        2\n",
       "tau      1\n",
       "r        0\n",
       "BS       0\n",
       "dtype: int64"
      ]
     },
     "execution_count": 6,
     "metadata": {},
     "output_type": "execute_result"
    }
   ],
   "source": [
    "df.isnull().sum()"
   ]
  },
  {
   "cell_type": "code",
   "execution_count": 7,
   "id": "a87600ab",
   "metadata": {},
   "outputs": [],
   "source": [
    "bs= list(df.BS.values)"
   ]
  },
  {
   "cell_type": "code",
   "execution_count": 8,
   "id": "4903e802",
   "metadata": {},
   "outputs": [],
   "source": [
    "df=df.drop('BS', axis=1)"
   ]
  },
  {
   "cell_type": "code",
   "execution_count": 9,
   "id": "cb370c87",
   "metadata": {},
   "outputs": [],
   "source": [
    "import numpy as np\n",
    "from sklearn.impute import KNNImputer\n",
    "imputer = KNNImputer(n_neighbors=5, weights=\"uniform\")"
   ]
  },
  {
   "cell_type": "code",
   "execution_count": 10,
   "id": "5889a98f",
   "metadata": {},
   "outputs": [],
   "source": [
    "x = df.to_numpy()"
   ]
  },
  {
   "cell_type": "code",
   "execution_count": 11,
   "id": "157d7b10",
   "metadata": {},
   "outputs": [],
   "source": [
    "x=imputer.fit_transform(x)"
   ]
  },
  {
   "cell_type": "code",
   "execution_count": 12,
   "id": "6883faa8",
   "metadata": {},
   "outputs": [
    {
     "data": {
      "text/plain": [
       "Index(['Value', 'S', 'K', 'tau', 'r'], dtype='object')"
      ]
     },
     "execution_count": 12,
     "metadata": {},
     "output_type": "execute_result"
    }
   ],
   "source": [
    "df.columns"
   ]
  },
  {
   "cell_type": "code",
   "execution_count": 13,
   "id": "541b8e95",
   "metadata": {},
   "outputs": [],
   "source": [
    "df=pd.DataFrame(x, columns=['Value', 'S', 'K', 'tau', 'r'])\n",
    "df['BS']=bs"
   ]
  },
  {
   "cell_type": "code",
   "execution_count": 14,
   "id": "2fe3c4fc",
   "metadata": {},
   "outputs": [
    {
     "data": {
      "text/html": [
       "<div>\n",
       "<style scoped>\n",
       "    .dataframe tbody tr th:only-of-type {\n",
       "        vertical-align: middle;\n",
       "    }\n",
       "\n",
       "    .dataframe tbody tr th {\n",
       "        vertical-align: top;\n",
       "    }\n",
       "\n",
       "    .dataframe thead th {\n",
       "        text-align: right;\n",
       "    }\n",
       "</style>\n",
       "<table border=\"1\" class=\"dataframe\">\n",
       "  <thead>\n",
       "    <tr style=\"text-align: right;\">\n",
       "      <th></th>\n",
       "      <th>Value</th>\n",
       "      <th>S</th>\n",
       "      <th>K</th>\n",
       "      <th>tau</th>\n",
       "      <th>r</th>\n",
       "      <th>BS</th>\n",
       "    </tr>\n",
       "  </thead>\n",
       "  <tbody>\n",
       "    <tr>\n",
       "      <th>0</th>\n",
       "      <td>21.670404</td>\n",
       "      <td>431.623898</td>\n",
       "      <td>420.0</td>\n",
       "      <td>0.341270</td>\n",
       "      <td>0.03013</td>\n",
       "      <td>Under</td>\n",
       "    </tr>\n",
       "    <tr>\n",
       "      <th>1</th>\n",
       "      <td>0.125000</td>\n",
       "      <td>427.015526</td>\n",
       "      <td>465.0</td>\n",
       "      <td>0.166667</td>\n",
       "      <td>0.03126</td>\n",
       "      <td>Over</td>\n",
       "    </tr>\n",
       "    <tr>\n",
       "      <th>2</th>\n",
       "      <td>20.691244</td>\n",
       "      <td>427.762336</td>\n",
       "      <td>415.0</td>\n",
       "      <td>0.265873</td>\n",
       "      <td>0.03116</td>\n",
       "      <td>Under</td>\n",
       "    </tr>\n",
       "    <tr>\n",
       "      <th>3</th>\n",
       "      <td>1.035002</td>\n",
       "      <td>451.711658</td>\n",
       "      <td>460.0</td>\n",
       "      <td>0.063492</td>\n",
       "      <td>0.02972</td>\n",
       "      <td>Over</td>\n",
       "    </tr>\n",
       "    <tr>\n",
       "      <th>4</th>\n",
       "      <td>39.553020</td>\n",
       "      <td>446.718974</td>\n",
       "      <td>410.0</td>\n",
       "      <td>0.166667</td>\n",
       "      <td>0.02962</td>\n",
       "      <td>Under</td>\n",
       "    </tr>\n",
       "  </tbody>\n",
       "</table>\n",
       "</div>"
      ],
      "text/plain": [
       "       Value           S      K       tau        r     BS\n",
       "0  21.670404  431.623898  420.0  0.341270  0.03013  Under\n",
       "1   0.125000  427.015526  465.0  0.166667  0.03126   Over\n",
       "2  20.691244  427.762336  415.0  0.265873  0.03116  Under\n",
       "3   1.035002  451.711658  460.0  0.063492  0.02972   Over\n",
       "4  39.553020  446.718974  410.0  0.166667  0.02962  Under"
      ]
     },
     "execution_count": 14,
     "metadata": {},
     "output_type": "execute_result"
    }
   ],
   "source": [
    "df.head()"
   ]
  },
  {
   "cell_type": "code",
   "execution_count": 15,
   "id": "a419f764",
   "metadata": {},
   "outputs": [
    {
     "data": {
      "text/plain": [
       "Value    0\n",
       "S        0\n",
       "K        0\n",
       "tau      0\n",
       "r        0\n",
       "BS       0\n",
       "dtype: int64"
      ]
     },
     "execution_count": 15,
     "metadata": {},
     "output_type": "execute_result"
    }
   ],
   "source": [
    "df.isnull().sum()"
   ]
  },
  {
   "cell_type": "code",
   "execution_count": 16,
   "id": "dbb1e2f9",
   "metadata": {},
   "outputs": [
    {
     "data": {
      "text/html": [
       "<div>\n",
       "<style scoped>\n",
       "    .dataframe tbody tr th:only-of-type {\n",
       "        vertical-align: middle;\n",
       "    }\n",
       "\n",
       "    .dataframe tbody tr th {\n",
       "        vertical-align: top;\n",
       "    }\n",
       "\n",
       "    .dataframe thead th {\n",
       "        text-align: right;\n",
       "    }\n",
       "</style>\n",
       "<table border=\"1\" class=\"dataframe\">\n",
       "  <thead>\n",
       "    <tr style=\"text-align: right;\">\n",
       "      <th></th>\n",
       "      <th>Value</th>\n",
       "      <th>S</th>\n",
       "      <th>K</th>\n",
       "      <th>tau</th>\n",
       "      <th>r</th>\n",
       "      <th>BS</th>\n",
       "    </tr>\n",
       "  </thead>\n",
       "  <tbody>\n",
       "    <tr>\n",
       "      <th>0</th>\n",
       "      <td>21.670404</td>\n",
       "      <td>431.623898</td>\n",
       "      <td>420.0</td>\n",
       "      <td>0.341270</td>\n",
       "      <td>0.03013</td>\n",
       "      <td>Under</td>\n",
       "    </tr>\n",
       "    <tr>\n",
       "      <th>1</th>\n",
       "      <td>0.125000</td>\n",
       "      <td>427.015526</td>\n",
       "      <td>465.0</td>\n",
       "      <td>0.166667</td>\n",
       "      <td>0.03126</td>\n",
       "      <td>Over</td>\n",
       "    </tr>\n",
       "    <tr>\n",
       "      <th>2</th>\n",
       "      <td>20.691244</td>\n",
       "      <td>427.762336</td>\n",
       "      <td>415.0</td>\n",
       "      <td>0.265873</td>\n",
       "      <td>0.03116</td>\n",
       "      <td>Under</td>\n",
       "    </tr>\n",
       "    <tr>\n",
       "      <th>3</th>\n",
       "      <td>1.035002</td>\n",
       "      <td>451.711658</td>\n",
       "      <td>460.0</td>\n",
       "      <td>0.063492</td>\n",
       "      <td>0.02972</td>\n",
       "      <td>Over</td>\n",
       "    </tr>\n",
       "    <tr>\n",
       "      <th>4</th>\n",
       "      <td>39.553020</td>\n",
       "      <td>446.718974</td>\n",
       "      <td>410.0</td>\n",
       "      <td>0.166667</td>\n",
       "      <td>0.02962</td>\n",
       "      <td>Under</td>\n",
       "    </tr>\n",
       "  </tbody>\n",
       "</table>\n",
       "</div>"
      ],
      "text/plain": [
       "       Value           S      K       tau        r     BS\n",
       "0  21.670404  431.623898  420.0  0.341270  0.03013  Under\n",
       "1   0.125000  427.015526  465.0  0.166667  0.03126   Over\n",
       "2  20.691244  427.762336  415.0  0.265873  0.03116  Under\n",
       "3   1.035002  451.711658  460.0  0.063492  0.02972   Over\n",
       "4  39.553020  446.718974  410.0  0.166667  0.02962  Under"
      ]
     },
     "execution_count": 16,
     "metadata": {},
     "output_type": "execute_result"
    }
   ],
   "source": [
    "df.head()"
   ]
  },
  {
   "cell_type": "code",
   "execution_count": 17,
   "id": "dbe72d18",
   "metadata": {},
   "outputs": [],
   "source": [
    "bs={'Under':0, 'Over':1}"
   ]
  },
  {
   "cell_type": "code",
   "execution_count": 18,
   "id": "137c61c8",
   "metadata": {},
   "outputs": [],
   "source": [
    "df.BS=df.apply(lambda x: 0 if x['BS']=='Under' else 1, axis=1)"
   ]
  },
  {
   "cell_type": "code",
   "execution_count": 19,
   "id": "fb373193",
   "metadata": {
    "scrolled": true
   },
   "outputs": [
    {
     "data": {
      "text/html": [
       "<div>\n",
       "<style scoped>\n",
       "    .dataframe tbody tr th:only-of-type {\n",
       "        vertical-align: middle;\n",
       "    }\n",
       "\n",
       "    .dataframe tbody tr th {\n",
       "        vertical-align: top;\n",
       "    }\n",
       "\n",
       "    .dataframe thead th {\n",
       "        text-align: right;\n",
       "    }\n",
       "</style>\n",
       "<table border=\"1\" class=\"dataframe\">\n",
       "  <thead>\n",
       "    <tr style=\"text-align: right;\">\n",
       "      <th></th>\n",
       "      <th>Value</th>\n",
       "      <th>S</th>\n",
       "      <th>K</th>\n",
       "      <th>tau</th>\n",
       "      <th>r</th>\n",
       "      <th>BS</th>\n",
       "    </tr>\n",
       "  </thead>\n",
       "  <tbody>\n",
       "    <tr>\n",
       "      <th>0</th>\n",
       "      <td>21.670404</td>\n",
       "      <td>431.623898</td>\n",
       "      <td>420.0</td>\n",
       "      <td>0.341270</td>\n",
       "      <td>0.03013</td>\n",
       "      <td>0</td>\n",
       "    </tr>\n",
       "    <tr>\n",
       "      <th>1</th>\n",
       "      <td>0.125000</td>\n",
       "      <td>427.015526</td>\n",
       "      <td>465.0</td>\n",
       "      <td>0.166667</td>\n",
       "      <td>0.03126</td>\n",
       "      <td>1</td>\n",
       "    </tr>\n",
       "    <tr>\n",
       "      <th>2</th>\n",
       "      <td>20.691244</td>\n",
       "      <td>427.762336</td>\n",
       "      <td>415.0</td>\n",
       "      <td>0.265873</td>\n",
       "      <td>0.03116</td>\n",
       "      <td>0</td>\n",
       "    </tr>\n",
       "    <tr>\n",
       "      <th>3</th>\n",
       "      <td>1.035002</td>\n",
       "      <td>451.711658</td>\n",
       "      <td>460.0</td>\n",
       "      <td>0.063492</td>\n",
       "      <td>0.02972</td>\n",
       "      <td>1</td>\n",
       "    </tr>\n",
       "    <tr>\n",
       "      <th>4</th>\n",
       "      <td>39.553020</td>\n",
       "      <td>446.718974</td>\n",
       "      <td>410.0</td>\n",
       "      <td>0.166667</td>\n",
       "      <td>0.02962</td>\n",
       "      <td>0</td>\n",
       "    </tr>\n",
       "  </tbody>\n",
       "</table>\n",
       "</div>"
      ],
      "text/plain": [
       "       Value           S      K       tau        r  BS\n",
       "0  21.670404  431.623898  420.0  0.341270  0.03013   0\n",
       "1   0.125000  427.015526  465.0  0.166667  0.03126   1\n",
       "2  20.691244  427.762336  415.0  0.265873  0.03116   0\n",
       "3   1.035002  451.711658  460.0  0.063492  0.02972   1\n",
       "4  39.553020  446.718974  410.0  0.166667  0.02962   0"
      ]
     },
     "execution_count": 19,
     "metadata": {},
     "output_type": "execute_result"
    }
   ],
   "source": [
    "df.head()"
   ]
  },
  {
   "cell_type": "code",
   "execution_count": 20,
   "id": "d1fb040e",
   "metadata": {},
   "outputs": [],
   "source": [
    "df['S/K']=df['S']/df['K']\n",
    "df['FVS']=df['S']*(1+df['r'])**(df['tau'])\n",
    "df['FVS/K']=df['FVS']/df['K']\n",
    "df['PVK']=df['K']/(1+df['r'])**(df['tau'])\n",
    "df['S/PVK']= df['S']/df['PVK']\n",
    "df['S-K/S']=(df['S']-df['K'])/df['S']\n",
    "df['S-K/K']=(df['S']-df['K'])/df['K']"
   ]
  },
  {
   "cell_type": "code",
   "execution_count": 21,
   "id": "62685f7a",
   "metadata": {},
   "outputs": [
    {
     "data": {
      "text/html": [
       "<div>\n",
       "<style scoped>\n",
       "    .dataframe tbody tr th:only-of-type {\n",
       "        vertical-align: middle;\n",
       "    }\n",
       "\n",
       "    .dataframe tbody tr th {\n",
       "        vertical-align: top;\n",
       "    }\n",
       "\n",
       "    .dataframe thead th {\n",
       "        text-align: right;\n",
       "    }\n",
       "</style>\n",
       "<table border=\"1\" class=\"dataframe\">\n",
       "  <thead>\n",
       "    <tr style=\"text-align: right;\">\n",
       "      <th></th>\n",
       "      <th>Value</th>\n",
       "      <th>S</th>\n",
       "      <th>K</th>\n",
       "      <th>tau</th>\n",
       "      <th>r</th>\n",
       "      <th>BS</th>\n",
       "      <th>S/K</th>\n",
       "      <th>FVS</th>\n",
       "      <th>FVS/K</th>\n",
       "      <th>PVK</th>\n",
       "      <th>S/PVK</th>\n",
       "      <th>S-K/S</th>\n",
       "      <th>S-K/K</th>\n",
       "    </tr>\n",
       "  </thead>\n",
       "  <tbody>\n",
       "    <tr>\n",
       "      <th>Value</th>\n",
       "      <td>1.000000</td>\n",
       "      <td>0.086653</td>\n",
       "      <td>-0.885775</td>\n",
       "      <td>-0.029464</td>\n",
       "      <td>0.042009</td>\n",
       "      <td>-0.753953</td>\n",
       "      <td>0.945363</td>\n",
       "      <td>-0.023074</td>\n",
       "      <td>-0.021850</td>\n",
       "      <td>-0.733498</td>\n",
       "      <td>-0.021850</td>\n",
       "      <td>0.928435</td>\n",
       "      <td>0.945363</td>\n",
       "    </tr>\n",
       "    <tr>\n",
       "      <th>S</th>\n",
       "      <td>0.086653</td>\n",
       "      <td>1.000000</td>\n",
       "      <td>0.212025</td>\n",
       "      <td>0.026806</td>\n",
       "      <td>-0.458465</td>\n",
       "      <td>-0.087636</td>\n",
       "      <td>0.106022</td>\n",
       "      <td>0.026237</td>\n",
       "      <td>0.025986</td>\n",
       "      <td>0.170301</td>\n",
       "      <td>0.025986</td>\n",
       "      <td>0.108883</td>\n",
       "      <td>0.106022</td>\n",
       "    </tr>\n",
       "    <tr>\n",
       "      <th>K</th>\n",
       "      <td>-0.885775</td>\n",
       "      <td>0.212025</td>\n",
       "      <td>1.000000</td>\n",
       "      <td>0.039393</td>\n",
       "      <td>-0.174262</td>\n",
       "      <td>0.750531</td>\n",
       "      <td>-0.947631</td>\n",
       "      <td>0.033965</td>\n",
       "      <td>0.032609</td>\n",
       "      <td>0.818590</td>\n",
       "      <td>0.032609</td>\n",
       "      <td>-0.948214</td>\n",
       "      <td>-0.947631</td>\n",
       "    </tr>\n",
       "    <tr>\n",
       "      <th>tau</th>\n",
       "      <td>-0.029464</td>\n",
       "      <td>0.026806</td>\n",
       "      <td>0.039393</td>\n",
       "      <td>1.000000</td>\n",
       "      <td>-0.008309</td>\n",
       "      <td>0.039272</td>\n",
       "      <td>-0.031120</td>\n",
       "      <td>0.884845</td>\n",
       "      <td>0.885506</td>\n",
       "      <td>-0.524683</td>\n",
       "      <td>0.885506</td>\n",
       "      <td>-0.030804</td>\n",
       "      <td>-0.031120</td>\n",
       "    </tr>\n",
       "    <tr>\n",
       "      <th>r</th>\n",
       "      <td>0.042009</td>\n",
       "      <td>-0.458465</td>\n",
       "      <td>-0.174262</td>\n",
       "      <td>-0.008309</td>\n",
       "      <td>1.000000</td>\n",
       "      <td>-0.069523</td>\n",
       "      <td>0.033443</td>\n",
       "      <td>-0.005170</td>\n",
       "      <td>-0.004948</td>\n",
       "      <td>-0.144171</td>\n",
       "      <td>-0.004948</td>\n",
       "      <td>0.029263</td>\n",
       "      <td>0.033443</td>\n",
       "    </tr>\n",
       "    <tr>\n",
       "      <th>BS</th>\n",
       "      <td>-0.753953</td>\n",
       "      <td>-0.087636</td>\n",
       "      <td>0.750531</td>\n",
       "      <td>0.039272</td>\n",
       "      <td>-0.069523</td>\n",
       "      <td>1.000000</td>\n",
       "      <td>-0.788418</td>\n",
       "      <td>0.028869</td>\n",
       "      <td>0.027869</td>\n",
       "      <td>0.607743</td>\n",
       "      <td>0.027869</td>\n",
       "      <td>-0.791795</td>\n",
       "      <td>-0.788418</td>\n",
       "    </tr>\n",
       "    <tr>\n",
       "      <th>S/K</th>\n",
       "      <td>0.945363</td>\n",
       "      <td>0.106022</td>\n",
       "      <td>-0.947631</td>\n",
       "      <td>-0.031120</td>\n",
       "      <td>0.033443</td>\n",
       "      <td>-0.788418</td>\n",
       "      <td>1.000000</td>\n",
       "      <td>-0.025556</td>\n",
       "      <td>-0.024255</td>\n",
       "      <td>-0.777308</td>\n",
       "      <td>-0.024255</td>\n",
       "      <td>0.998380</td>\n",
       "      <td>1.000000</td>\n",
       "    </tr>\n",
       "    <tr>\n",
       "      <th>FVS</th>\n",
       "      <td>-0.023074</td>\n",
       "      <td>0.026237</td>\n",
       "      <td>0.033965</td>\n",
       "      <td>0.884845</td>\n",
       "      <td>-0.005170</td>\n",
       "      <td>0.028869</td>\n",
       "      <td>-0.025556</td>\n",
       "      <td>1.000000</td>\n",
       "      <td>0.999998</td>\n",
       "      <td>-0.402495</td>\n",
       "      <td>0.999998</td>\n",
       "      <td>-0.025498</td>\n",
       "      <td>-0.025556</td>\n",
       "    </tr>\n",
       "    <tr>\n",
       "      <th>FVS/K</th>\n",
       "      <td>-0.021850</td>\n",
       "      <td>0.025986</td>\n",
       "      <td>0.032609</td>\n",
       "      <td>0.885506</td>\n",
       "      <td>-0.004948</td>\n",
       "      <td>0.027869</td>\n",
       "      <td>-0.024255</td>\n",
       "      <td>0.999998</td>\n",
       "      <td>1.000000</td>\n",
       "      <td>-0.404172</td>\n",
       "      <td>1.000000</td>\n",
       "      <td>-0.024199</td>\n",
       "      <td>-0.024255</td>\n",
       "    </tr>\n",
       "    <tr>\n",
       "      <th>PVK</th>\n",
       "      <td>-0.733498</td>\n",
       "      <td>0.170301</td>\n",
       "      <td>0.818590</td>\n",
       "      <td>-0.524683</td>\n",
       "      <td>-0.144171</td>\n",
       "      <td>0.607743</td>\n",
       "      <td>-0.777308</td>\n",
       "      <td>-0.402495</td>\n",
       "      <td>-0.404172</td>\n",
       "      <td>1.000000</td>\n",
       "      <td>-0.404172</td>\n",
       "      <td>-0.777590</td>\n",
       "      <td>-0.777308</td>\n",
       "    </tr>\n",
       "    <tr>\n",
       "      <th>S/PVK</th>\n",
       "      <td>-0.021850</td>\n",
       "      <td>0.025986</td>\n",
       "      <td>0.032609</td>\n",
       "      <td>0.885506</td>\n",
       "      <td>-0.004948</td>\n",
       "      <td>0.027869</td>\n",
       "      <td>-0.024255</td>\n",
       "      <td>0.999998</td>\n",
       "      <td>1.000000</td>\n",
       "      <td>-0.404172</td>\n",
       "      <td>1.000000</td>\n",
       "      <td>-0.024199</td>\n",
       "      <td>-0.024255</td>\n",
       "    </tr>\n",
       "    <tr>\n",
       "      <th>S-K/S</th>\n",
       "      <td>0.928435</td>\n",
       "      <td>0.108883</td>\n",
       "      <td>-0.948214</td>\n",
       "      <td>-0.030804</td>\n",
       "      <td>0.029263</td>\n",
       "      <td>-0.791795</td>\n",
       "      <td>0.998380</td>\n",
       "      <td>-0.025498</td>\n",
       "      <td>-0.024199</td>\n",
       "      <td>-0.777590</td>\n",
       "      <td>-0.024199</td>\n",
       "      <td>1.000000</td>\n",
       "      <td>0.998380</td>\n",
       "    </tr>\n",
       "    <tr>\n",
       "      <th>S-K/K</th>\n",
       "      <td>0.945363</td>\n",
       "      <td>0.106022</td>\n",
       "      <td>-0.947631</td>\n",
       "      <td>-0.031120</td>\n",
       "      <td>0.033443</td>\n",
       "      <td>-0.788418</td>\n",
       "      <td>1.000000</td>\n",
       "      <td>-0.025556</td>\n",
       "      <td>-0.024255</td>\n",
       "      <td>-0.777308</td>\n",
       "      <td>-0.024255</td>\n",
       "      <td>0.998380</td>\n",
       "      <td>1.000000</td>\n",
       "    </tr>\n",
       "  </tbody>\n",
       "</table>\n",
       "</div>"
      ],
      "text/plain": [
       "          Value         S         K       tau         r        BS       S/K  \\\n",
       "Value  1.000000  0.086653 -0.885775 -0.029464  0.042009 -0.753953  0.945363   \n",
       "S      0.086653  1.000000  0.212025  0.026806 -0.458465 -0.087636  0.106022   \n",
       "K     -0.885775  0.212025  1.000000  0.039393 -0.174262  0.750531 -0.947631   \n",
       "tau   -0.029464  0.026806  0.039393  1.000000 -0.008309  0.039272 -0.031120   \n",
       "r      0.042009 -0.458465 -0.174262 -0.008309  1.000000 -0.069523  0.033443   \n",
       "BS    -0.753953 -0.087636  0.750531  0.039272 -0.069523  1.000000 -0.788418   \n",
       "S/K    0.945363  0.106022 -0.947631 -0.031120  0.033443 -0.788418  1.000000   \n",
       "FVS   -0.023074  0.026237  0.033965  0.884845 -0.005170  0.028869 -0.025556   \n",
       "FVS/K -0.021850  0.025986  0.032609  0.885506 -0.004948  0.027869 -0.024255   \n",
       "PVK   -0.733498  0.170301  0.818590 -0.524683 -0.144171  0.607743 -0.777308   \n",
       "S/PVK -0.021850  0.025986  0.032609  0.885506 -0.004948  0.027869 -0.024255   \n",
       "S-K/S  0.928435  0.108883 -0.948214 -0.030804  0.029263 -0.791795  0.998380   \n",
       "S-K/K  0.945363  0.106022 -0.947631 -0.031120  0.033443 -0.788418  1.000000   \n",
       "\n",
       "            FVS     FVS/K       PVK     S/PVK     S-K/S     S-K/K  \n",
       "Value -0.023074 -0.021850 -0.733498 -0.021850  0.928435  0.945363  \n",
       "S      0.026237  0.025986  0.170301  0.025986  0.108883  0.106022  \n",
       "K      0.033965  0.032609  0.818590  0.032609 -0.948214 -0.947631  \n",
       "tau    0.884845  0.885506 -0.524683  0.885506 -0.030804 -0.031120  \n",
       "r     -0.005170 -0.004948 -0.144171 -0.004948  0.029263  0.033443  \n",
       "BS     0.028869  0.027869  0.607743  0.027869 -0.791795 -0.788418  \n",
       "S/K   -0.025556 -0.024255 -0.777308 -0.024255  0.998380  1.000000  \n",
       "FVS    1.000000  0.999998 -0.402495  0.999998 -0.025498 -0.025556  \n",
       "FVS/K  0.999998  1.000000 -0.404172  1.000000 -0.024199 -0.024255  \n",
       "PVK   -0.402495 -0.404172  1.000000 -0.404172 -0.777590 -0.777308  \n",
       "S/PVK  0.999998  1.000000 -0.404172  1.000000 -0.024199 -0.024255  \n",
       "S-K/S -0.025498 -0.024199 -0.777590 -0.024199  1.000000  0.998380  \n",
       "S-K/K -0.025556 -0.024255 -0.777308 -0.024255  0.998380  1.000000  "
      ]
     },
     "execution_count": 21,
     "metadata": {},
     "output_type": "execute_result"
    }
   ],
   "source": [
    "df.corr()"
   ]
  },
  {
   "cell_type": "code",
   "execution_count": 22,
   "id": "c7199bab",
   "metadata": {},
   "outputs": [
    {
     "data": {
      "text/html": [
       "<div>\n",
       "<style scoped>\n",
       "    .dataframe tbody tr th:only-of-type {\n",
       "        vertical-align: middle;\n",
       "    }\n",
       "\n",
       "    .dataframe tbody tr th {\n",
       "        vertical-align: top;\n",
       "    }\n",
       "\n",
       "    .dataframe thead th {\n",
       "        text-align: right;\n",
       "    }\n",
       "</style>\n",
       "<table border=\"1\" class=\"dataframe\">\n",
       "  <thead>\n",
       "    <tr style=\"text-align: right;\">\n",
       "      <th></th>\n",
       "      <th>Value</th>\n",
       "      <th>S</th>\n",
       "      <th>K</th>\n",
       "      <th>tau</th>\n",
       "      <th>r</th>\n",
       "      <th>BS</th>\n",
       "      <th>S/K</th>\n",
       "      <th>FVS</th>\n",
       "      <th>FVS/K</th>\n",
       "      <th>PVK</th>\n",
       "      <th>S/PVK</th>\n",
       "      <th>S-K/S</th>\n",
       "      <th>S-K/K</th>\n",
       "    </tr>\n",
       "  </thead>\n",
       "  <tbody>\n",
       "    <tr>\n",
       "      <th>1328</th>\n",
       "      <td>27.244374</td>\n",
       "      <td>428.042219</td>\n",
       "      <td>405.0</td>\n",
       "      <td>0.170635</td>\n",
       "      <td>0.03188</td>\n",
       "      <td>0</td>\n",
       "      <td>1.056894</td>\n",
       "      <td>430.340503</td>\n",
       "      <td>1.062569</td>\n",
       "      <td>402.837050</td>\n",
       "      <td>1.062569</td>\n",
       "      <td>0.053832</td>\n",
       "      <td>0.056894</td>\n",
       "    </tr>\n",
       "    <tr>\n",
       "      <th>1263</th>\n",
       "      <td>9.500000</td>\n",
       "      <td>426.025007</td>\n",
       "      <td>430.0</td>\n",
       "      <td>0.281746</td>\n",
       "      <td>0.03188</td>\n",
       "      <td>0</td>\n",
       "      <td>0.990756</td>\n",
       "      <td>429.808563</td>\n",
       "      <td>0.999555</td>\n",
       "      <td>426.214759</td>\n",
       "      <td>0.999555</td>\n",
       "      <td>-0.009330</td>\n",
       "      <td>-0.009244</td>\n",
       "    </tr>\n",
       "    <tr>\n",
       "      <th>393</th>\n",
       "      <td>45.842621</td>\n",
       "      <td>426.025007</td>\n",
       "      <td>385.0</td>\n",
       "      <td>0.281746</td>\n",
       "      <td>0.03188</td>\n",
       "      <td>0</td>\n",
       "      <td>1.106558</td>\n",
       "      <td>429.808563</td>\n",
       "      <td>1.116386</td>\n",
       "      <td>381.610888</td>\n",
       "      <td>1.116386</td>\n",
       "      <td>0.096297</td>\n",
       "      <td>0.106558</td>\n",
       "    </tr>\n",
       "    <tr>\n",
       "      <th>598</th>\n",
       "      <td>50.547908</td>\n",
       "      <td>426.025007</td>\n",
       "      <td>380.0</td>\n",
       "      <td>0.281746</td>\n",
       "      <td>0.03188</td>\n",
       "      <td>0</td>\n",
       "      <td>1.121118</td>\n",
       "      <td>429.808563</td>\n",
       "      <td>1.131075</td>\n",
       "      <td>376.654903</td>\n",
       "      <td>1.131075</td>\n",
       "      <td>0.108034</td>\n",
       "      <td>0.121118</td>\n",
       "    </tr>\n",
       "    <tr>\n",
       "      <th>1231</th>\n",
       "      <td>22.831499</td>\n",
       "      <td>428.042219</td>\n",
       "      <td>410.0</td>\n",
       "      <td>0.170635</td>\n",
       "      <td>0.03188</td>\n",
       "      <td>0</td>\n",
       "      <td>1.044005</td>\n",
       "      <td>430.340503</td>\n",
       "      <td>1.049611</td>\n",
       "      <td>407.810347</td>\n",
       "      <td>1.049611</td>\n",
       "      <td>0.042151</td>\n",
       "      <td>0.044005</td>\n",
       "    </tr>\n",
       "    <tr>\n",
       "      <th>...</th>\n",
       "      <td>...</td>\n",
       "      <td>...</td>\n",
       "      <td>...</td>\n",
       "      <td>...</td>\n",
       "      <td>...</td>\n",
       "      <td>...</td>\n",
       "      <td>...</td>\n",
       "      <td>...</td>\n",
       "      <td>...</td>\n",
       "      <td>...</td>\n",
       "      <td>...</td>\n",
       "      <td>...</td>\n",
       "      <td>...</td>\n",
       "    </tr>\n",
       "    <tr>\n",
       "      <th>1100</th>\n",
       "      <td>6.000000</td>\n",
       "      <td>449.367877</td>\n",
       "      <td>455.0</td>\n",
       "      <td>0.198413</td>\n",
       "      <td>0.02951</td>\n",
       "      <td>1</td>\n",
       "      <td>0.987622</td>\n",
       "      <td>451.968418</td>\n",
       "      <td>0.993337</td>\n",
       "      <td>452.382016</td>\n",
       "      <td>0.993337</td>\n",
       "      <td>-0.012533</td>\n",
       "      <td>-0.012378</td>\n",
       "    </tr>\n",
       "    <tr>\n",
       "      <th>763</th>\n",
       "      <td>37.635668</td>\n",
       "      <td>449.367877</td>\n",
       "      <td>415.0</td>\n",
       "      <td>0.198413</td>\n",
       "      <td>0.02951</td>\n",
       "      <td>0</td>\n",
       "      <td>1.082814</td>\n",
       "      <td>451.968418</td>\n",
       "      <td>1.089081</td>\n",
       "      <td>412.612168</td>\n",
       "      <td>1.089081</td>\n",
       "      <td>0.076480</td>\n",
       "      <td>0.082814</td>\n",
       "    </tr>\n",
       "    <tr>\n",
       "      <th>1158</th>\n",
       "      <td>12.030810</td>\n",
       "      <td>449.367877</td>\n",
       "      <td>445.0</td>\n",
       "      <td>0.198413</td>\n",
       "      <td>0.02951</td>\n",
       "      <td>0</td>\n",
       "      <td>1.009815</td>\n",
       "      <td>451.968418</td>\n",
       "      <td>1.015659</td>\n",
       "      <td>442.439554</td>\n",
       "      <td>1.015659</td>\n",
       "      <td>0.009720</td>\n",
       "      <td>0.009815</td>\n",
       "    </tr>\n",
       "    <tr>\n",
       "      <th>1400</th>\n",
       "      <td>4.440000</td>\n",
       "      <td>448.218393</td>\n",
       "      <td>465.0</td>\n",
       "      <td>0.309524</td>\n",
       "      <td>0.02951</td>\n",
       "      <td>1</td>\n",
       "      <td>0.963911</td>\n",
       "      <td>452.271412</td>\n",
       "      <td>0.972627</td>\n",
       "      <td>460.832915</td>\n",
       "      <td>0.972627</td>\n",
       "      <td>-0.037441</td>\n",
       "      <td>-0.036089</td>\n",
       "    </tr>\n",
       "    <tr>\n",
       "      <th>1469</th>\n",
       "      <td>30.433911</td>\n",
       "      <td>430.346700</td>\n",
       "      <td>405.0</td>\n",
       "      <td>0.222222</td>\n",
       "      <td>0.02951</td>\n",
       "      <td>0</td>\n",
       "      <td>1.062584</td>\n",
       "      <td>433.136986</td>\n",
       "      <td>1.069474</td>\n",
       "      <td>402.390974</td>\n",
       "      <td>1.069474</td>\n",
       "      <td>0.058898</td>\n",
       "      <td>0.062584</td>\n",
       "    </tr>\n",
       "  </tbody>\n",
       "</table>\n",
       "<p>1680 rows × 13 columns</p>\n",
       "</div>"
      ],
      "text/plain": [
       "          Value           S      K       tau        r  BS       S/K  \\\n",
       "1328  27.244374  428.042219  405.0  0.170635  0.03188   0  1.056894   \n",
       "1263   9.500000  426.025007  430.0  0.281746  0.03188   0  0.990756   \n",
       "393   45.842621  426.025007  385.0  0.281746  0.03188   0  1.106558   \n",
       "598   50.547908  426.025007  380.0  0.281746  0.03188   0  1.121118   \n",
       "1231  22.831499  428.042219  410.0  0.170635  0.03188   0  1.044005   \n",
       "...         ...         ...    ...       ...      ...  ..       ...   \n",
       "1100   6.000000  449.367877  455.0  0.198413  0.02951   1  0.987622   \n",
       "763   37.635668  449.367877  415.0  0.198413  0.02951   0  1.082814   \n",
       "1158  12.030810  449.367877  445.0  0.198413  0.02951   0  1.009815   \n",
       "1400   4.440000  448.218393  465.0  0.309524  0.02951   1  0.963911   \n",
       "1469  30.433911  430.346700  405.0  0.222222  0.02951   0  1.062584   \n",
       "\n",
       "             FVS     FVS/K         PVK     S/PVK     S-K/S     S-K/K  \n",
       "1328  430.340503  1.062569  402.837050  1.062569  0.053832  0.056894  \n",
       "1263  429.808563  0.999555  426.214759  0.999555 -0.009330 -0.009244  \n",
       "393   429.808563  1.116386  381.610888  1.116386  0.096297  0.106558  \n",
       "598   429.808563  1.131075  376.654903  1.131075  0.108034  0.121118  \n",
       "1231  430.340503  1.049611  407.810347  1.049611  0.042151  0.044005  \n",
       "...          ...       ...         ...       ...       ...       ...  \n",
       "1100  451.968418  0.993337  452.382016  0.993337 -0.012533 -0.012378  \n",
       "763   451.968418  1.089081  412.612168  1.089081  0.076480  0.082814  \n",
       "1158  451.968418  1.015659  442.439554  1.015659  0.009720  0.009815  \n",
       "1400  452.271412  0.972627  460.832915  0.972627 -0.037441 -0.036089  \n",
       "1469  433.136986  1.069474  402.390974  1.069474  0.058898  0.062584  \n",
       "\n",
       "[1680 rows x 13 columns]"
      ]
     },
     "execution_count": 22,
     "metadata": {},
     "output_type": "execute_result"
    }
   ],
   "source": [
    "df.sort_values(by='r', ascending=False)"
   ]
  },
  {
   "cell_type": "code",
   "execution_count": 23,
   "id": "112f702a",
   "metadata": {},
   "outputs": [
    {
     "data": {
      "text/plain": [
       "(1680, 13)"
      ]
     },
     "execution_count": 23,
     "metadata": {},
     "output_type": "execute_result"
    }
   ],
   "source": [
    "df.shape"
   ]
  },
  {
   "cell_type": "code",
   "execution_count": 24,
   "id": "6251e06f",
   "metadata": {},
   "outputs": [],
   "source": [
    "Yc = df.Value\n",
    "Xf = df.drop(['Value','BS'],axis=1)"
   ]
  },
  {
   "cell_type": "code",
   "execution_count": 25,
   "id": "48201d0f",
   "metadata": {},
   "outputs": [],
   "source": [
    "def fit_linear_reg(Xf,Yc):\n",
    "    #Fit linear regression model and return RSS and R squared values\n",
    "    model_k = linear_model.LinearRegression(fit_intercept = True)\n",
    "    model_k.fit(Xf,Yc)\n",
    "    RSS = mean_squared_error(Yc,model_k.predict(Xf)) * len(Yc)\n",
    "    R_squared = model_k.score(Xf,Yc)\n",
    "    return RSS, R_squared"
   ]
  },
  {
   "cell_type": "code",
   "execution_count": 26,
   "id": "f7efd5d2",
   "metadata": {},
   "outputs": [
    {
     "name": "stderr",
     "output_type": "stream",
     "text": [
      "<ipython-input-26-57678c2478a9>:10: TqdmDeprecationWarning: Please use `tqdm.notebook.trange` instead of `tqdm.tnrange`\n",
      "  for k in tnrange(1,len(Xf.columns) + 1, desc = 'Loop...'):\n"
     ]
    },
    {
     "data": {
      "application/vnd.jupyter.widget-view+json": {
       "model_id": "3221a91bd74a479baafa798e007b1bd7",
       "version_major": 2,
       "version_minor": 0
      },
      "text/plain": [
       "Loop...:   0%|          | 0/11 [00:00<?, ?it/s]"
      ]
     },
     "metadata": {},
     "output_type": "display_data"
    }
   ],
   "source": [
    "#Importing tqdm for the progress bar\n",
    "from tqdm import tnrange, tqdm_notebook\n",
    "\n",
    "#Initialization variables\n",
    "k = 11\n",
    "RSS_list, R_squared_list, feature_list = [],[], []\n",
    "numb_features = []\n",
    "\n",
    "#Looping over k = 1 to k = 11 features in X\n",
    "for k in tnrange(1,len(Xf.columns) + 1, desc = 'Loop...'):\n",
    "\n",
    "    #Looping over all possible combinations: from 11 choose k\n",
    "    for combo in itertools.combinations(Xf.columns,k):\n",
    "        tmp_result = fit_linear_reg(Xf[list(combo)],Yc)   #Store temp result \n",
    "        RSS_list.append(tmp_result[0])                  #Append lists\n",
    "        R_squared_list.append(tmp_result[1])\n",
    "        feature_list.append(combo)\n",
    "        numb_features.append(len(combo))   \n",
    "\n",
    "#Store in DataFrame\n",
    "df1 = pd.DataFrame({'numb_features': numb_features,'RSS': RSS_list, 'R_squared':R_squared_list,'features':feature_list})"
   ]
  },
  {
   "cell_type": "code",
   "execution_count": 27,
   "id": "58b87734",
   "metadata": {},
   "outputs": [],
   "source": [
    "df1.sort_values('R_squared', ascending=False, inplace=True)"
   ]
  },
  {
   "cell_type": "code",
   "execution_count": 28,
   "id": "fdc79c17",
   "metadata": {},
   "outputs": [
    {
     "data": {
      "text/html": [
       "<div>\n",
       "<style scoped>\n",
       "    .dataframe tbody tr th:only-of-type {\n",
       "        vertical-align: middle;\n",
       "    }\n",
       "\n",
       "    .dataframe tbody tr th {\n",
       "        vertical-align: top;\n",
       "    }\n",
       "\n",
       "    .dataframe thead th {\n",
       "        text-align: right;\n",
       "    }\n",
       "</style>\n",
       "<table border=\"1\" class=\"dataframe\">\n",
       "  <thead>\n",
       "    <tr style=\"text-align: right;\">\n",
       "      <th></th>\n",
       "      <th>numb_features</th>\n",
       "      <th>RSS</th>\n",
       "      <th>R_squared</th>\n",
       "      <th>features</th>\n",
       "    </tr>\n",
       "  </thead>\n",
       "  <tbody>\n",
       "    <tr>\n",
       "      <th>1986</th>\n",
       "      <td>9</td>\n",
       "      <td>2456.595925</td>\n",
       "      <td>0.992572</td>\n",
       "      <td>(S, K, tau, r, S/K, FVS, PVK, S/PVK, S-K/S)</td>\n",
       "    </tr>\n",
       "  </tbody>\n",
       "</table>\n",
       "</div>"
      ],
      "text/plain": [
       "      numb_features          RSS  R_squared  \\\n",
       "1986              9  2456.595925   0.992572   \n",
       "\n",
       "                                         features  \n",
       "1986  (S, K, tau, r, S/K, FVS, PVK, S/PVK, S-K/S)  "
      ]
     },
     "execution_count": 28,
     "metadata": {},
     "output_type": "execute_result"
    }
   ],
   "source": [
    "df1.head(1)"
   ]
  },
  {
   "cell_type": "code",
   "execution_count": 29,
   "id": "f0d8aac1",
   "metadata": {},
   "outputs": [
    {
     "data": {
      "text/plain": [
       "('S', 'K', 'tau', 'r', 'S/K', 'FVS', 'PVK', 'S/PVK', 'S-K/S')"
      ]
     },
     "execution_count": 29,
     "metadata": {},
     "output_type": "execute_result"
    }
   ],
   "source": [
    "df1.iloc[0,3]"
   ]
  },
  {
   "cell_type": "code",
   "execution_count": 45,
   "id": "34e2a367",
   "metadata": {},
   "outputs": [
    {
     "data": {
      "text/html": [
       "<div>\n",
       "<style scoped>\n",
       "    .dataframe tbody tr th:only-of-type {\n",
       "        vertical-align: middle;\n",
       "    }\n",
       "\n",
       "    .dataframe tbody tr th {\n",
       "        vertical-align: top;\n",
       "    }\n",
       "\n",
       "    .dataframe thead th {\n",
       "        text-align: right;\n",
       "    }\n",
       "</style>\n",
       "<table border=\"1\" class=\"dataframe\">\n",
       "  <thead>\n",
       "    <tr style=\"text-align: right;\">\n",
       "      <th></th>\n",
       "      <th>S</th>\n",
       "      <th>K</th>\n",
       "      <th>tau</th>\n",
       "      <th>r</th>\n",
       "      <th>S/K</th>\n",
       "      <th>FVS</th>\n",
       "      <th>PVK</th>\n",
       "      <th>S/PVK</th>\n",
       "      <th>S-K/S</th>\n",
       "      <th>Value</th>\n",
       "      <th>BS</th>\n",
       "    </tr>\n",
       "  </thead>\n",
       "  <tbody>\n",
       "    <tr>\n",
       "      <th>0</th>\n",
       "      <td>431.623898</td>\n",
       "      <td>420.0</td>\n",
       "      <td>0.341270</td>\n",
       "      <td>0.03013</td>\n",
       "      <td>1.027676</td>\n",
       "      <td>436.018730</td>\n",
       "      <td>415.766628</td>\n",
       "      <td>1.038140</td>\n",
       "      <td>0.026931</td>\n",
       "      <td>21.670404</td>\n",
       "      <td>0</td>\n",
       "    </tr>\n",
       "    <tr>\n",
       "      <th>1</th>\n",
       "      <td>427.015526</td>\n",
       "      <td>465.0</td>\n",
       "      <td>0.166667</td>\n",
       "      <td>0.03126</td>\n",
       "      <td>0.918313</td>\n",
       "      <td>429.211841</td>\n",
       "      <td>462.620554</td>\n",
       "      <td>0.923036</td>\n",
       "      <td>-0.088953</td>\n",
       "      <td>0.125000</td>\n",
       "      <td>1</td>\n",
       "    </tr>\n",
       "    <tr>\n",
       "      <th>2</th>\n",
       "      <td>427.762336</td>\n",
       "      <td>415.0</td>\n",
       "      <td>0.265873</td>\n",
       "      <td>0.03116</td>\n",
       "      <td>1.030753</td>\n",
       "      <td>431.266359</td>\n",
       "      <td>411.628141</td>\n",
       "      <td>1.039196</td>\n",
       "      <td>0.029835</td>\n",
       "      <td>20.691244</td>\n",
       "      <td>0</td>\n",
       "    </tr>\n",
       "    <tr>\n",
       "      <th>3</th>\n",
       "      <td>451.711658</td>\n",
       "      <td>460.0</td>\n",
       "      <td>0.063492</td>\n",
       "      <td>0.02972</td>\n",
       "      <td>0.981982</td>\n",
       "      <td>452.552391</td>\n",
       "      <td>459.145431</td>\n",
       "      <td>0.983810</td>\n",
       "      <td>-0.018349</td>\n",
       "      <td>1.035002</td>\n",
       "      <td>1</td>\n",
       "    </tr>\n",
       "    <tr>\n",
       "      <th>4</th>\n",
       "      <td>446.718974</td>\n",
       "      <td>410.0</td>\n",
       "      <td>0.166667</td>\n",
       "      <td>0.02962</td>\n",
       "      <td>1.089558</td>\n",
       "      <td>448.897543</td>\n",
       "      <td>408.010208</td>\n",
       "      <td>1.094872</td>\n",
       "      <td>0.082197</td>\n",
       "      <td>39.553020</td>\n",
       "      <td>0</td>\n",
       "    </tr>\n",
       "  </tbody>\n",
       "</table>\n",
       "</div>"
      ],
      "text/plain": [
       "            S      K       tau        r       S/K         FVS         PVK  \\\n",
       "0  431.623898  420.0  0.341270  0.03013  1.027676  436.018730  415.766628   \n",
       "1  427.015526  465.0  0.166667  0.03126  0.918313  429.211841  462.620554   \n",
       "2  427.762336  415.0  0.265873  0.03116  1.030753  431.266359  411.628141   \n",
       "3  451.711658  460.0  0.063492  0.02972  0.981982  452.552391  459.145431   \n",
       "4  446.718974  410.0  0.166667  0.02962  1.089558  448.897543  408.010208   \n",
       "\n",
       "      S/PVK     S-K/S      Value  BS  \n",
       "0  1.038140  0.026931  21.670404   0  \n",
       "1  0.923036 -0.088953   0.125000   1  \n",
       "2  1.039196  0.029835  20.691244   0  \n",
       "3  0.983810 -0.018349   1.035002   1  \n",
       "4  1.094872  0.082197  39.553020   0  "
      ]
     },
     "execution_count": 45,
     "metadata": {},
     "output_type": "execute_result"
    }
   ],
   "source": [
    "data=df[['S', 'K', 'tau', 'r', 'S/K', 'FVS', 'PVK', 'S/PVK', 'S-K/S', 'Value', 'BS']]\n",
    "data.head()"
   ]
  },
  {
   "cell_type": "code",
   "execution_count": 46,
   "id": "e3d4be17",
   "metadata": {},
   "outputs": [],
   "source": [
    "df=data"
   ]
  },
  {
   "cell_type": "code",
   "execution_count": 47,
   "id": "ff04a604",
   "metadata": {},
   "outputs": [
    {
     "data": {
      "text/plain": [
       "(1680, 11)"
      ]
     },
     "execution_count": 47,
     "metadata": {},
     "output_type": "execute_result"
    }
   ],
   "source": [
    "df.shape"
   ]
  },
  {
   "cell_type": "code",
   "execution_count": 52,
   "id": "52a8e21d",
   "metadata": {},
   "outputs": [],
   "source": [
    "df1=df.copy()"
   ]
  },
  {
   "cell_type": "markdown",
   "id": "5853e3aa",
   "metadata": {},
   "source": [
    "## Regression"
   ]
  },
  {
   "cell_type": "markdown",
   "id": "447c6ac7",
   "metadata": {},
   "source": [
    "### Linear Regression"
   ]
  },
  {
   "cell_type": "code",
   "execution_count": 34,
   "id": "b2d1c06a",
   "metadata": {},
   "outputs": [],
   "source": [
    "from sklearn.linear_model import LinearRegression\n",
    "from sklearn.model_selection import KFold ## for regression\n",
    "from sklearn.model_selection import cross_val_score"
   ]
  },
  {
   "cell_type": "code",
   "execution_count": 53,
   "id": "064d7f91",
   "metadata": {},
   "outputs": [],
   "source": [
    "# test and train\n",
    "from sklearn.model_selection import train_test_split\n",
    "x, y = df.iloc[:, :9].values, df.iloc[:, 9].values\n",
    "x_train, x_test, y_train, y_test = train_test_split(x, y,\n",
    "                                                    test_size=0.3,\n",
    "                                                    random_state=0)\n",
    "\n",
    "# standardized x\n",
    "from sklearn.preprocessing import StandardScaler\n",
    "stdsc = StandardScaler()\n",
    "x_train = stdsc.fit_transform(x_train)\n",
    "x_test = stdsc.transform(x_test)"
   ]
  },
  {
   "cell_type": "code",
   "execution_count": 54,
   "id": "f27b4c74",
   "metadata": {},
   "outputs": [
    {
     "name": "stdout",
     "output_type": "stream",
     "text": [
      "coefficient of determination: 0.992528077359818\n"
     ]
    }
   ],
   "source": [
    "from sklearn.linear_model import LinearRegression\n",
    "linear_model = LinearRegression(); linear_model.fit(x_train, y_train)\n",
    "r_sq = linear_model.score(x_train, y_train)\n",
    "print('coefficient of determination:', r_sq)"
   ]
  },
  {
   "cell_type": "code",
   "execution_count": 55,
   "id": "c23103ce",
   "metadata": {},
   "outputs": [
    {
     "name": "stdout",
     "output_type": "stream",
     "text": [
      "out of sample r_sq: 0.9925420572039823\n"
     ]
    }
   ],
   "source": [
    "r_sq = linear_model.score(x_test, y_test)\n",
    "print('out of sample r_sq:', r_sq)"
   ]
  },
  {
   "cell_type": "markdown",
   "id": "60180047",
   "metadata": {},
   "source": [
    "### KNN regression"
   ]
  },
  {
   "cell_type": "code",
   "execution_count": 56,
   "id": "b04b6865",
   "metadata": {},
   "outputs": [
    {
     "name": "stdout",
     "output_type": "stream",
     "text": [
      "K Nearest Neighbor Regression: \n",
      "\n",
      "r squared of 10-folds: [0.97705265 0.96915128 0.97805091 0.93868911 0.84847371 0.97991151\n",
      " 0.9813815  0.96150871 0.96817822 0.97200434] (mean r squared: 0.9574401926180528 )\n"
     ]
    }
   ],
   "source": [
    "from sklearn.neighbors import KNeighborsRegressor\n",
    "# K Nearest Neighbor Regression\n",
    "knn_regression = KNeighborsRegressor()\n",
    "r2_knnr_cv = cross_val_score(knn_regression, x_train, y_train, cv=kfolds_regresssion) \n",
    "print(\"K Nearest Neighbor Regression: \\n\")\n",
    "print(\"r squared of 10-folds:\",r2_knnr_cv,\"(mean r squared:\",np.mean(r2_knnr_cv),\")\")"
   ]
  },
  {
   "cell_type": "code",
   "execution_count": 64,
   "id": "131eb810",
   "metadata": {},
   "outputs": [
    {
     "name": "stdout",
     "output_type": "stream",
     "text": [
      "K Nearest Neighbor Regression: 1\n",
      "\n",
      "r squared of 10-folds: [0.96893118 0.95796407 0.96135967 0.97150205 0.79403374 0.97172117\n",
      " 0.9734376  0.93299591 0.95126828 0.95929455] (mean r squared: 0.9442508216822073 )\n",
      "\n",
      "K Nearest Neighbor Regression: 2\n",
      "\n",
      "r squared of 10-folds: [0.9784782  0.96940899 0.96768095 0.94776263 0.83695936 0.97433804\n",
      " 0.97779533 0.95903259 0.96603453 0.96948174] (mean r squared: 0.9546972365216495 )\n",
      "\n",
      "K Nearest Neighbor Regression: 3\n",
      "\n",
      "r squared of 10-folds: [0.97843325 0.96993863 0.97317674 0.94376616 0.83055634 0.97833778\n",
      " 0.97873189 0.95979936 0.96873886 0.97088581] (mean r squared: 0.9552364812206282 )\n",
      "\n",
      "K Nearest Neighbor Regression: 4\n",
      "\n",
      "r squared of 10-folds: [0.97595782 0.96826717 0.9766488  0.94228994 0.844433   0.98060309\n",
      " 0.97813009 0.96272047 0.96782824 0.97240439] (mean r squared: 0.9569283015973695 )\n",
      "\n",
      "K Nearest Neighbor Regression: 5\n",
      "\n",
      "r squared of 10-folds: [0.97705265 0.96915128 0.97805091 0.93868911 0.84847371 0.97991151\n",
      " 0.9813815  0.96150871 0.96817822 0.97200434] (mean r squared: 0.9574401926180528 )\n",
      "\n",
      "K Nearest Neighbor Regression: 6\n",
      "\n",
      "r squared of 10-folds: [0.97654952 0.97003896 0.97792196 0.93397599 0.85279988 0.97966921\n",
      " 0.98144857 0.96117239 0.96899687 0.97240482] (mean r squared: 0.957497816937914 )\n",
      "\n",
      "K Nearest Neighbor Regression: 7\n",
      "\n",
      "r squared of 10-folds: [0.97826327 0.97083313 0.97789951 0.93426461 0.85635618 0.97806616\n",
      " 0.98288111 0.96180413 0.96716632 0.97236214] (mean r squared: 0.9579896582356622 )\n",
      "\n"
     ]
    }
   ],
   "source": [
    "# K Nearest Neighbor Regression\n",
    "for K in range(1,8):\n",
    "    knn_regression = KNeighborsRegressor(K)\n",
    "    r2_knnr_cv = cross_val_score(knn_regression, x_train, y_train, cv=kfolds_regresssion)\n",
    "    print(f\"K Nearest Neighbor Regression: {K}\\n\",)\n",
    "    print(\"r squared of 10-folds:\",r2_knnr_cv,\"(mean r squared:\",np.mean(r2_knnr_cv),\")\\n\")"
   ]
  },
  {
   "cell_type": "code",
   "execution_count": null,
   "id": "5decc846",
   "metadata": {},
   "outputs": [],
   "source": []
  },
  {
   "cell_type": "code",
   "execution_count": null,
   "id": "04b4c67e",
   "metadata": {},
   "outputs": [],
   "source": []
  },
  {
   "cell_type": "code",
   "execution_count": null,
   "id": "06b3993b",
   "metadata": {},
   "outputs": [],
   "source": []
  },
  {
   "cell_type": "code",
   "execution_count": null,
   "id": "62f89a15",
   "metadata": {},
   "outputs": [],
   "source": []
  },
  {
   "cell_type": "code",
   "execution_count": null,
   "id": "2518c541",
   "metadata": {},
   "outputs": [],
   "source": []
  },
  {
   "cell_type": "code",
   "execution_count": null,
   "id": "4bc52204",
   "metadata": {},
   "outputs": [],
   "source": []
  },
  {
   "cell_type": "markdown",
   "id": "1837e627",
   "metadata": {},
   "source": [
    "### Decision Trees Regresssion"
   ]
  },
  {
   "cell_type": "code",
   "execution_count": 65,
   "id": "ea800352",
   "metadata": {},
   "outputs": [],
   "source": [
    "from sklearn.tree import DecisionTreeRegressor\n",
    "import matplotlib.pyplot as plt"
   ]
  },
  {
   "cell_type": "code",
   "execution_count": 66,
   "id": "95279278",
   "metadata": {},
   "outputs": [
    {
     "name": "stdout",
     "output_type": "stream",
     "text": [
      "Decision Tree for Regression: \n",
      "\n",
      "r squared of 10-folds: [0.94159138 0.91809514 0.93423413 0.9073309  0.86496483 0.92425024\n",
      " 0.92938329 0.90369864 0.90578334 0.91885408] (mean r squared: 0.9148185965207754 )\n"
     ]
    }
   ],
   "source": [
    "# Decision Tree with 2 maximum depth\n",
    "decision_tree_regression = DecisionTreeRegressor(max_depth=2)\n",
    "r2_dcr_cv = cross_val_score(decision_tree_regression, x_train, y_train, cv=kfolds_regresssion) \n",
    "print(\"Decision Tree for Regression: \\n\")\n",
    "print(\"r squared of 10-folds:\",r2_dcr_cv,\"(mean r squared:\",np.mean(r2_dcr_cv),\")\")"
   ]
  },
  {
   "cell_type": "code",
   "execution_count": 68,
   "id": "62c81220",
   "metadata": {},
   "outputs": [
    {
     "name": "stdout",
     "output_type": "stream",
     "text": [
      "Decision Tree for Regression: \n",
      "\n",
      "r squared of 10-folds: [0.99666229 0.99758474 0.99623577 0.99724788 0.95833309 0.9955058\n",
      " 0.99737149 0.9952252  0.99638493 0.99678758] (mean r squared: 0.9927338773986802 )\n"
     ]
    }
   ],
   "source": [
    "# Decision Tree with 5 maximum depth\n",
    "decision_tree_regression_2 = DecisionTreeRegressor()\n",
    "r2_dcr_cv_2 = cross_val_score(decision_tree_regression_2, x_train, y_train, cv=kfolds_regresssion) \n",
    "print(\"Decision Tree for Regression: \\n\")\n",
    "print(\"r squared of 10-folds:\",r2_dcr_cv_2,\"(mean r squared:\",np.mean(r2_dcr_cv_2),\")\")"
   ]
  },
  {
   "cell_type": "markdown",
   "id": "57bf9b3e",
   "metadata": {},
   "source": [
    "### Ridge"
   ]
  },
  {
   "cell_type": "code",
   "execution_count": 69,
   "id": "22791583",
   "metadata": {},
   "outputs": [],
   "source": [
    "from sklearn.linear_model import Ridge, RidgeCV, Lasso, LassoCV"
   ]
  },
  {
   "cell_type": "code",
   "execution_count": 70,
   "id": "d9a2b106",
   "metadata": {},
   "outputs": [],
   "source": [
    "alphas = 10**np.linspace(10,-2,100)*0.5"
   ]
  },
  {
   "cell_type": "code",
   "execution_count": 72,
   "id": "bee96851",
   "metadata": {},
   "outputs": [
    {
     "data": {
      "text/plain": [
       "(100, 9)"
      ]
     },
     "execution_count": 72,
     "metadata": {},
     "output_type": "execute_result"
    }
   ],
   "source": [
    "ridge = Ridge()\n",
    "coefs = []\n",
    "for a in alphas: \n",
    "    ridge.set_params(alpha=a) \n",
    "    ridge.fit(x_train, y_train) \n",
    "    coefs.append(ridge.coef_)\n",
    "np.shape(coefs)"
   ]
  },
  {
   "cell_type": "code",
   "execution_count": 73,
   "id": "98e710d5",
   "metadata": {},
   "outputs": [
    {
     "data": {
      "text/plain": [
       "Text(0, 0.5, 'standardized coef')"
      ]
     },
     "execution_count": 73,
     "metadata": {},
     "output_type": "execute_result"
    },
    {
     "data": {
      "image/png": "[encoded data removed]",
      "text/plain": [
       "<Figure size 432x288 with 1 Axes>"
      ]
     },
     "metadata": {
      "needs_background": "light"
     },
     "output_type": "display_data"
    }
   ],
   "source": [
    "%matplotlib inline\n",
    "ax = plt.gca() # Get the current Axes instance\n",
    "ax.plot(alphas, coefs)\n",
    "ax.set_xscale('log') ## you can try removing this line and see what it looks␣like \n",
    "plt.xlabel('alpha')\n",
    "plt.ylabel('standardized coef')"
   ]
  },
  {
   "cell_type": "code",
   "execution_count": 75,
   "id": "064f6ba7",
   "metadata": {},
   "outputs": [
    {
     "data": {
      "text/plain": [
       "115.5064850041579"
      ]
     },
     "execution_count": 75,
     "metadata": {},
     "output_type": "execute_result"
    }
   ],
   "source": [
    "ridgecv = RidgeCV(alphas=alphas, scoring='r2', cv=10)\n",
    "ridgecv.fit(x_train, y_train)\n",
    "ridgecv.alpha_"
   ]
  },
  {
   "cell_type": "code",
   "execution_count": 77,
   "id": "26d318ec",
   "metadata": {},
   "outputs": [
    {
     "name": "stdout",
     "output_type": "stream",
     "text": [
      "Ridge Regression: \n",
      "\n",
      "r squared of 10-folds: [0.86436801 0.87711673 0.86533921 0.88398224 0.79512267 0.8600991\n",
      " 0.88868034 0.86001204 0.84811235 0.85202122] (mean r squared: 0.8594853922928877 )\n"
     ]
    }
   ],
   "source": [
    "# Ridge Regression with alpha = 10**5\n",
    "ridge = Ridge(alpha=352.74)\n",
    "r2_ridge_cv = cross_val_score(ridge, x_train, y_train, cv=kfolds_regresssion) \n",
    "print(\"Ridge Regression: \\n\")\n",
    "print(\"r squared of 10-folds:\",r2_ridge_cv,\"(mean r squared:\",np.mean(r2_ridge_cv),\")\")"
   ]
  },
  {
   "cell_type": "markdown",
   "id": "e80ca5b0",
   "metadata": {},
   "source": [
    "### Classification"
   ]
  },
  {
   "cell_type": "code",
   "execution_count": 83,
   "id": "d3852e4c",
   "metadata": {},
   "outputs": [],
   "source": [
    "# test and train\n",
    "from sklearn.model_selection import train_test_split\n",
    "x1, y1 = df.iloc[:, :9].values, df.iloc[:, 10].values\n",
    "x_train1, x_test1, y_train1, y_test1 = train_test_split(x1, y1,\n",
    "                                                    test_size=0.3,\n",
    "                                                    random_state=0)\n",
    "\n",
    "# standardized x\n",
    "from sklearn.preprocessing import StandardScaler\n",
    "stdsc = StandardScaler()\n",
    "x_train1 = stdsc.fit_transform(x_train1)\n",
    "x_test1 = stdsc.transform(x_test1)"
   ]
  },
  {
   "cell_type": "code",
   "execution_count": 96,
   "id": "1f3fe76d",
   "metadata": {},
   "outputs": [],
   "source": [
    "# ML Logit\n",
    "from sklearn.linear_model import LogisticRegression\n",
    "from sklearn.model_selection import StratifiedKFold"
   ]
  },
  {
   "cell_type": "code",
   "execution_count": 97,
   "id": "9c7e8348",
   "metadata": {},
   "outputs": [
    {
     "name": "stdout",
     "output_type": "stream",
     "text": [
      "Logisgic Regression: \n",
      "\n",
      "accuracies of 10-folds: [0.88983051 0.92372881 0.92372881 0.91525424 0.94067797 0.93220339\n",
      " 0.91452991 0.88888889 0.92307692 0.91452991] (mean classification error: 0.08335506301607987 )\n"
     ]
    }
   ],
   "source": [
    "kfolds_classification = StratifiedKFold(n_splits = 10, random_state = 1, shuffle = True)\n",
    "logistic_regression = LogisticRegression(penalty='none', max_iter=300).fit(x_train1, y_train1)\n",
    "error_lr_cv = cross_val_score(logistic_regression, x_train1, y_train1, cv=kfolds_classification) \n",
    "print(\"Logisgic Regression: \\n\")\n",
    "print(\"accuracies of 10-folds:\",error_lr_cv,\"(mean classification error:\",1-np.mean(error_lr_cv),\")\")"
   ]
  },
  {
   "cell_type": "code",
   "execution_count": 98,
   "id": "c4e3e18f",
   "metadata": {},
   "outputs": [],
   "source": [
    "from sklearn.neighbors import KNeighborsClassifier"
   ]
  },
  {
   "cell_type": "code",
   "execution_count": 100,
   "id": "26e8f947",
   "metadata": {},
   "outputs": [
    {
     "name": "stdout",
     "output_type": "stream",
     "text": [
      "K Nearest Neighbor 1: \n",
      "\n",
      "accuracies of 10-folds: [0.91525424 0.92372881 0.89830508 0.93220339 0.94915254 0.91525424\n",
      " 0.90598291 0.91452991 0.91452991 0.88888889] (mean classification error: 0.08421700709836288 )\n",
      "K Nearest Neighbor 2: \n",
      "\n",
      "accuracies of 10-folds: [0.91525424 0.93220339 0.91525424 0.93220339 0.96610169 0.94067797\n",
      " 0.92307692 0.92307692 0.93162393 0.84615385] (mean classification error: 0.07743734608141373 )\n",
      "K Nearest Neighbor 3: \n",
      "\n",
      "accuracies of 10-folds: [0.94067797 0.92372881 0.92372881 0.94915254 0.94915254 0.93220339\n",
      " 0.93162393 0.91452991 0.8974359  0.86324786] (mean classification error: 0.07745183253657828 )\n",
      "K Nearest Neighbor 4: \n",
      "\n",
      "accuracies of 10-folds: [0.92372881 0.92372881 0.93220339 0.93220339 0.94915254 0.92372881\n",
      " 0.91452991 0.92307692 0.90598291 0.84615385] (mean classification error: 0.0825510647544545 )\n"
     ]
    }
   ],
   "source": [
    "for K in range(1,5):\n",
    "    knn = KNeighborsClassifier(n_neighbors=K)\n",
    "    error_knn_cv = cross_val_score(knn, x_train1, y_train1, cv=kfolds_classification) \n",
    "    print(f\"K Nearest Neighbor {K}: \\n\")\n",
    "    print(\"accuracies of 10-folds:\",error_knn_cv,\"(mean classification error:\",1-np.mean(error_knn_cv),\")\")"
   ]
  },
  {
   "cell_type": "markdown",
   "id": "6c050aa0",
   "metadata": {},
   "source": [
    "### Decision Tree"
   ]
  },
  {
   "cell_type": "code",
   "execution_count": 101,
   "id": "e57a47b7",
   "metadata": {},
   "outputs": [],
   "source": [
    "from sklearn import tree\n",
    "from sklearn.tree import DecisionTreeClassifier"
   ]
  },
  {
   "cell_type": "code",
   "execution_count": 102,
   "id": "74ba8d4d",
   "metadata": {},
   "outputs": [
    {
     "name": "stdout",
     "output_type": "stream",
     "text": [
      "Decision Tree Classification: \n",
      "\n",
      "accuracies of 10-folds: [0.94067797 0.93220339 0.90677966 0.88135593 0.91525424 0.94067797\n",
      " 0.87179487 0.90598291 0.90598291 0.88888889] (mean classification error: 0.09104012748080537 )\n"
     ]
    }
   ],
   "source": [
    "decision_tree_classification = DecisionTreeClassifier()\n",
    "error_dcc_cv = cross_val_score(decision_tree_classification, x_train1, y_train1, cv=kfolds_classification) \n",
    "print(\"Decision Tree Classification: \\n\")\n",
    "print(\"accuracies of 10-folds:\",error_dcc_cv,\"(mean classification error:\",1-np.mean(error_dcc_cv),\")\")"
   ]
  },
  {
   "cell_type": "markdown",
   "id": "a0ed25ba",
   "metadata": {},
   "source": [
    "### Random Forest"
   ]
  },
  {
   "cell_type": "code",
   "execution_count": 103,
   "id": "e45949fe",
   "metadata": {},
   "outputs": [],
   "source": [
    "from sklearn.ensemble import RandomForestClassifier"
   ]
  },
  {
   "cell_type": "code",
   "execution_count": 106,
   "id": "311ac8cc",
   "metadata": {},
   "outputs": [
    {
     "name": "stdout",
     "output_type": "stream",
     "text": [
      "Random Forest: \n",
      "\n",
      "accuracies of 10-folds: [0.92372881 0.95762712 0.91525424 0.93220339 0.94067797 0.94067797\n",
      " 0.95726496 0.91452991 0.91452991 0.90598291] (mean classification error: 0.06975228161668845 )\n"
     ]
    }
   ],
   "source": [
    "random_forest = RandomForestClassifier(n_estimators = 200)\n",
    "error_rf_cv = cross_val_score(random_forest, x_train1, y_train1, cv=kfolds_classification) \n",
    "print(\"Random Forest: \\n\")\n",
    "print(\"accuracies of 10-folds:\",error_rf_cv,\"(mean classification error:\",1-np.mean(error_rf_cv),\")\")"
   ]
  },
  {
   "cell_type": "code",
   "execution_count": 108,
   "id": "0e3dbfea",
   "metadata": {},
   "outputs": [
    {
     "name": "stdout",
     "output_type": "stream",
     "text": [
      "0.9107142857142857\n"
     ]
    }
   ],
   "source": [
    "from sklearn.metrics import accuracy_score\n",
    "clf_rf = RandomForestClassifier(random_state=1, n_estimators = 200)\n",
    "clf_rf.fit(x_train1, y_train1)\n",
    "y_pred_rf = clf_rf.predict(x_test1)\n",
    "score_test_rf = accuracy_score(y_test1, y_pred_rf)\n",
    "print(score_test_rf)"
   ]
  },
  {
   "cell_type": "markdown",
   "id": "9caee771",
   "metadata": {},
   "source": [
    "### ROC"
   ]
  },
  {
   "cell_type": "code",
   "execution_count": 110,
   "id": "b64f8e1c",
   "metadata": {},
   "outputs": [],
   "source": [
    "from sklearn.metrics import roc_curve\n",
    "import matplotlib.pyplot as plt\n",
    "c_prob = clf_rf.predict_proba(x_test1)\n",
    "c_prob1 = c_prob[:, 1]\n",
    "fpr,tpr,threshold = roc_curve(y_test1, c_prob1)"
   ]
  },
  {
   "cell_type": "code",
   "execution_count": 111,
   "id": "02afa96b",
   "metadata": {},
   "outputs": [
    {
     "data": {
      "text/plain": [
       "0.9799375800256082"
      ]
     },
     "execution_count": 111,
     "metadata": {},
     "output_type": "execute_result"
    }
   ],
   "source": [
    "from sklearn.metrics import auc\n",
    "roc_auc = auc(fpr,tpr)\n",
    "roc_auc"
   ]
  },
  {
   "cell_type": "code",
   "execution_count": 112,
   "id": "ec564c8a",
   "metadata": {},
   "outputs": [
    {
     "data": {
      "text/plain": [
       "<Figure size 432x288 with 0 Axes>"
      ]
     },
     "metadata": {},
     "output_type": "display_data"
    },
    {
     "data": {
      "image/png": "[encoded data removed]",
      "text/plain": [
       "<Figure size 720x720 with 1 Axes>"
      ]
     },
     "metadata": {
      "needs_background": "light"
     },
     "output_type": "display_data"
    }
   ],
   "source": [
    "plt.figure()\n",
    "plt.figure(figsize=(10,10))\n",
    "plt.plot(fpr, tpr, color='darkorange',\n",
    "lw=2, label='ROC curve (area = {0:.4f})'.format(roc_auc))\n",
    "plt.plot([0, 1], [0, 1], color='navy', lw=2, linestyle='--') # lw is linewidth\n",
    "plt.xlim([0.0, 1.0])\n",
    "plt.ylim([0.0, 1.05])\n",
    "plt.xlabel('False Positive Rate')\n",
    "plt.ylabel('True Positive Rate')\n",
    "plt.title('Receiver operating characteristic example')\n",
    "plt.legend(loc=\"lower right\")\n",
    "plt.show()"
   ]
  },
  {
   "cell_type": "code",
   "execution_count": null,
   "id": "6e515a18",
   "metadata": {},
   "outputs": [],
   "source": []
  },
  {
   "cell_type": "code",
   "execution_count": 44,
   "id": "8b772ee9",
   "metadata": {},
   "outputs": [],
   "source": [
    "# ML LDA\n",
    "from sklearn.discriminant_analysis import LinearDiscriminantAnalysis\n",
    "lda = LinearDiscriminantAnalysis().fit(x_train, y_train)"
   ]
  },
  {
   "cell_type": "code",
   "execution_count": 45,
   "id": "3542af8a",
   "metadata": {},
   "outputs": [
    {
     "data": {
      "text/plain": [
       "0.8979591836734694"
      ]
     },
     "execution_count": 45,
     "metadata": {},
     "output_type": "execute_result"
    }
   ],
   "source": [
    "lda.score(x_train, y_train)"
   ]
  },
  {
   "cell_type": "code",
   "execution_count": 58,
   "id": "e32a7bec",
   "metadata": {},
   "outputs": [],
   "source": [
    "from sklearn.model_selection import KFold ## for regression\n",
    "from sklearn.model_selection import StratifiedKFold ## recommended for classification\n",
    "kfolds = StratifiedKFold(n_splits = 10, random_state = 1, shuffle = True)"
   ]
  },
  {
   "cell_type": "code",
   "execution_count": 59,
   "id": "b7f602cd",
   "metadata": {},
   "outputs": [],
   "source": [
    "cv_classification_errors_1 = []\n",
    "cv_auc_1 = []"
   ]
  },
  {
   "cell_type": "code",
   "execution_count": 61,
   "id": "a87e3b8b",
   "metadata": {},
   "outputs": [
    {
     "name": "stdout",
     "output_type": "stream",
     "text": [
      "Optimization terminated successfully.\n",
      "         Current function value: 0.214436\n",
      "         Iterations 9\n",
      "Optimization terminated successfully.\n",
      "         Current function value: 0.212745\n",
      "         Iterations 9\n",
      "Optimization terminated successfully.\n",
      "         Current function value: 0.200383\n",
      "         Iterations 9\n",
      "Optimization terminated successfully.\n",
      "         Current function value: 0.215963\n",
      "         Iterations 9\n",
      "Optimization terminated successfully.\n",
      "         Current function value: 0.211371\n",
      "         Iterations 9\n",
      "Optimization terminated successfully.\n",
      "         Current function value: 0.214921\n",
      "         Iterations 9\n",
      "Optimization terminated successfully.\n",
      "         Current function value: 0.216057\n",
      "         Iterations 9\n",
      "Optimization terminated successfully.\n",
      "         Current function value: 0.212221\n",
      "         Iterations 9\n",
      "Optimization terminated successfully.\n",
      "         Current function value: 0.205214\n",
      "         Iterations 9\n",
      "Optimization terminated successfully.\n",
      "         Current function value: 0.214873\n",
      "         Iterations 9\n"
     ]
    }
   ],
   "source": [
    "import statsmodels.formula.api as smf\n",
    "from sklearn.metrics import roc_curve\n",
    "from sklearn.metrics import auc\n",
    "\n",
    "for train_index, test_index in kfolds.split(df,df['BS']):\n",
    "# train the logistic model\n",
    "    result = smf.logit('BS ~ S+K+tau+r', data=df, subset= train_index).fit()\n",
    "# select the test set according to test_index produced by kfolds.split\n",
    "    X_test = df.loc[test_index,[\"S\",\"K\",'tau','r']]\n",
    "    y_test = df.loc[test_index,\"BS\"]\n",
    "# compute the probabilities of test data\n",
    "    result_prob = result.predict(X_test)\n",
    "# select 0.5 as the threshold\n",
    "    result_pred = (result_prob > 0.5)\n",
    "# compute the classification error\n",
    "    classification_error = np.mean(result_pred != y_test)\n",
    "# add the computed classification error to \"cv_classification_errors_1\" to store the result\n",
    "    cv_classification_errors_1.append(classification_error)\n",
    "# calculate the auc\n",
    "    fpr,tpr,threshold = roc_curve(y_test, result_prob)\n",
    "    roc_auc = auc(fpr,tpr)\n",
    "# add the computed auc to \"cv_auc_1\" to store the result\n",
    "    cv_auc_1.append(roc_auc)"
   ]
  },
  {
   "cell_type": "code",
   "execution_count": 62,
   "id": "aff66b01",
   "metadata": {},
   "outputs": [
    {
     "name": "stdout",
     "output_type": "stream",
     "text": [
      "classification errors using 10-fold CV: [0.09523809523809523, 0.07738095238095238, 0.11904761904761904, 0.07142857142857142, 0.10119047619047619, 0.08333333333333333, 0.06547619047619048, 0.09523809523809523, 0.11904761904761904, 0.10119047619047619]\n",
      "\n",
      "mean of classification errors using 10-fold CV: 0.09285714285714285\n",
      "\n"
     ]
    }
   ],
   "source": [
    "print(\"classification errors using 10-fold CV: {}\\n\".format(cv_classification_errors_1))\n",
    "print(\"mean of classification errors using 10-fold CV: {}\\n\".format(np.mean(cv_classification_errors_1)))"
   ]
  },
  {
   "cell_type": "code",
   "execution_count": 63,
   "id": "ae149dcb",
   "metadata": {},
   "outputs": [
    {
     "name": "stdout",
     "output_type": "stream",
     "text": [
      "auc using 10-fold CV: [0.9775054073540015, 0.9753424657534246, 0.9531362653208364, 0.982984859408796, 0.9700072098053353, 0.9803893294881039, 0.9834675100632547, 0.9741230592294422, 0.9646348476135711, 0.9797297297297297]\n",
      "\n",
      "mean of auc using 10-fold CV: 0.9741320683766496\n",
      "\n"
     ]
    }
   ],
   "source": [
    "print(\"auc using 10-fold CV: {}\\n\".format(cv_auc_1))\n",
    "print(\"mean of auc using 10-fold CV: {}\\n\".format(np.mean(cv_auc_1)))"
   ]
  },
  {
   "cell_type": "code",
   "execution_count": null,
   "id": "60b1a04f",
   "metadata": {},
   "outputs": [],
   "source": []
  }
 ],
 "metadata": {
  "kernelspec": {
   "display_name": "Python 3",
   "language": "python",
   "name": "python3"
  },
  "language_info": {
   "codemirror_mode": {
    "name": "ipython",
    "version": 3
   },
   "file_extension": ".py",
   "mimetype": "text/x-python",
   "name": "python",
   "nbconvert_exporter": "python",
   "pygments_lexer": "ipython3",
   "version": "3.8.8"
  }
 },
 "nbformat": 4,
 "nbformat_minor": 5
}
